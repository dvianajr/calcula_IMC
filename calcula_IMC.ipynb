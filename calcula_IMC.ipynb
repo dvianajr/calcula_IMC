{
  "nbformat": 4,
  "nbformat_minor": 0,
  "metadata": {
    "colab": {
      "provenance": [],
      "authorship_tag": "ABX9TyP0tyvWl4bJnc94SHB2ZjQ/",
      "include_colab_link": true
    },
    "kernelspec": {
      "name": "python3",
      "display_name": "Python 3"
    },
    "language_info": {
      "name": "python"
    }
  },
  "cells": [
    {
      "cell_type": "markdown",
      "metadata": {
        "id": "view-in-github",
        "colab_type": "text"
      },
      "source": [
        "<a href=\"https://colab.research.google.com/github/dvianajr/calcula_IMC/blob/main/calcula_IMC.ipynb\" target=\"_parent\"><img src=\"https://colab.research.google.com/assets/colab-badge.svg\" alt=\"Open In Colab\"/></a>"
      ]
    },
    {
      "cell_type": "markdown",
      "source": [
        "Esse código captura a altura e o peso, verifica se altura é válida, calcula o IMC e mostra o resultado.\n"
      ],
      "metadata": {
        "id": "KnV9HocWQiXv"
      }
    },
    {
      "cell_type": "code",
      "execution_count": 1,
      "metadata": {
        "colab": {
          "base_uri": "https://localhost:8080/"
        },
        "id": "q5KedejH6bZl",
        "outputId": "c7747974-46d4-4532-f744-874736484aca"
      },
      "outputs": [
        {
          "output_type": "stream",
          "name": "stdout",
          "text": [
            "Insira o peso em quilogrmas: 98.4\n",
            "Insira a altura em metros: 1.76\n",
            "Seu IMC é 31.77\n",
            "Obesidade grau I\n"
          ]
        }
      ],
      "source": [
        "# função para calcular o IMC\n",
        "def IMC(peso, altura):\n",
        "    if altura <= 0:\n",
        "        return \"Inválido\"\n",
        "    return peso / (altura ** 2)\n",
        "\n",
        "# capturar peso e altura\n",
        "try:\n",
        "    peso = float(input('Insira o peso em quilogrmas: '))\n",
        "    altura = float(input('Insira a altura em metros: '))\n",
        "\n",
        "except ValueError:\n",
        "    print('Valores não permitidos')\n",
        "\n",
        "# chamando a função para calcular o IMC\n",
        "resultado = IMC(peso, altura)\n",
        "\n",
        "# mostrando o resultado\n",
        "if isinstance(resultado, float):\n",
        "    print(f'Seu IMC é {resultado:.2f}')\n",
        "\n",
        "    if resultado <= 18.5:\n",
        "        print('Abaixo do peso')\n",
        "    elif 18.5 < resultado <= 24.9:\n",
        "        print('Peso ideal')\n",
        "    elif 25 < resultado <= 29.9:\n",
        "        print('Levemente acima do peso')\n",
        "    elif 30 < resultado <= 34.9:\n",
        "        print('Obesidade grau I')\n",
        "    elif 35 < resultado <= 39.9:\n",
        "        print('Obesidade grau II = severa')\n",
        "    elif resultado >= 40:\n",
        "        print('Obesidade grau III = mórbida')\n"
      ]
    }
  ]
}